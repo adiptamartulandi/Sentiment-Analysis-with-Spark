{
 "cells": [
  {
   "cell_type": "markdown",
   "metadata": {},
   "source": [
    "# Read Me"
   ]
  },
  {
   "cell_type": "markdown",
   "metadata": {},
   "source": [
    "- Pada kasus kali ini, saya mengerjakan kasus mengenai analisis sentiment analisis dari data tweet yang didapatkan dari twitter.\n",
    "***\n",
    "- Saya hanya menggunakan 3 model menggunakan Logistic Regression, Naive Bayes, dan LinearSVC karena algoritma lain seperti KNN, Dtree, Random Forest, SVM sangat lama untuk dirun.\n",
    "***"
   ]
  },
  {
   "cell_type": "markdown",
   "metadata": {},
   "source": [
    "## 0.Load Library \n",
    "- Memuat seluruh library yang akan digunakan"
   ]
  },
  {
   "cell_type": "code",
   "execution_count": 1,
   "metadata": {},
   "outputs": [],
   "source": [
    "import pandas as pd \n",
    "import numpy as np \n",
    "\n",
    "#import nltk for natural language toolkit\n",
    "from nltk.corpus import stopwords\n",
    "import nltk \n",
    "\n",
    "#import re, unicode\n",
    "import re, unicodedata\n",
    "\n",
    "#import sklearn preprocessing \n",
    "from sklearn.feature_extraction.text import CountVectorizer\n",
    "from sklearn.feature_extraction.text import TfidfTransformer\n",
    "from sklearn.feature_extraction.text import TfidfVectorizer\n",
    "\n",
    "#import sklearn for modeling\n",
    "from sklearn.naive_bayes import MultinomialNB\n",
    "from sklearn.linear_model import LogisticRegression\n",
    "from sklearn.svm import LinearSVC\n",
    "from sklearn.model_selection import train_test_split\n",
    "from sklearn.model_selection import GridSearchCV\n",
    "from sklearn.metrics import accuracy_score, precision_score, recall_score, f1_score\n",
    "\n",
    "#import sklearn for model evaluation \n",
    "from sklearn.metrics import roc_auc_score\n",
    "\n",
    "#import visualization module \n",
    "import matplotlib.pyplot as plt\n",
    "import seaborn as sns\n",
    "from wordcloud import WordCloud, STOPWORDS\n",
    "\n",
    "#import beaurtiful soup \n",
    "from bs4 import BeautifulSoup\n",
    "\n",
    "#textblob\n",
    "from textblob import Word\n",
    "from textblob import TextBlob\n",
    "\n",
    "import warnings\n",
    "warnings.filterwarnings('ignore')"
   ]
  },
  {
   "cell_type": "markdown",
   "metadata": {},
   "source": [
    "## 1. Load Datasets\n",
    "- Loading data yang akan digunakan."
   ]
  },
  {
   "cell_type": "code",
   "execution_count": 2,
   "metadata": {},
   "outputs": [],
   "source": [
    "df = pd.read_csv('clean_tweet.csv')"
   ]
  },
  {
   "cell_type": "code",
   "execution_count": 3,
   "metadata": {},
   "outputs": [
    {
     "data": {
      "text/html": [
       "<div>\n",
       "<style scoped>\n",
       "    .dataframe tbody tr th:only-of-type {\n",
       "        vertical-align: middle;\n",
       "    }\n",
       "\n",
       "    .dataframe tbody tr th {\n",
       "        vertical-align: top;\n",
       "    }\n",
       "\n",
       "    .dataframe thead th {\n",
       "        text-align: right;\n",
       "    }\n",
       "</style>\n",
       "<table border=\"1\" class=\"dataframe\">\n",
       "  <thead>\n",
       "    <tr style=\"text-align: right;\">\n",
       "      <th></th>\n",
       "      <th>text</th>\n",
       "      <th>target</th>\n",
       "    </tr>\n",
       "  </thead>\n",
       "  <tbody>\n",
       "    <tr>\n",
       "      <th>0</th>\n",
       "      <td>awww that s a bummer you shoulda got david car...</td>\n",
       "      <td>0</td>\n",
       "    </tr>\n",
       "    <tr>\n",
       "      <th>1</th>\n",
       "      <td>is upset that he can t update his facebook by ...</td>\n",
       "      <td>0</td>\n",
       "    </tr>\n",
       "    <tr>\n",
       "      <th>2</th>\n",
       "      <td>i dived many times for the ball managed to sav...</td>\n",
       "      <td>0</td>\n",
       "    </tr>\n",
       "    <tr>\n",
       "      <th>3</th>\n",
       "      <td>my whole body feels itchy and like its on fire</td>\n",
       "      <td>0</td>\n",
       "    </tr>\n",
       "    <tr>\n",
       "      <th>4</th>\n",
       "      <td>no it s not behaving at all i m mad why am i h...</td>\n",
       "      <td>0</td>\n",
       "    </tr>\n",
       "  </tbody>\n",
       "</table>\n",
       "</div>"
      ],
      "text/plain": [
       "                                                text  target\n",
       "0  awww that s a bummer you shoulda got david car...       0\n",
       "1  is upset that he can t update his facebook by ...       0\n",
       "2  i dived many times for the ball managed to sav...       0\n",
       "3     my whole body feels itchy and like its on fire       0\n",
       "4  no it s not behaving at all i m mad why am i h...       0"
      ]
     },
     "execution_count": 3,
     "metadata": {},
     "output_type": "execute_result"
    }
   ],
   "source": [
    "#Melihat 5 data teratas\n",
    "df.head()"
   ]
  },
  {
   "cell_type": "markdown",
   "metadata": {},
   "source": [
    "## 2. Informasi Data Secara Umum"
   ]
  },
  {
   "cell_type": "code",
   "execution_count": 4,
   "metadata": {},
   "outputs": [
    {
     "name": "stdout",
     "output_type": "stream",
     "text": [
      "<class 'pandas.core.frame.DataFrame'>\n",
      "RangeIndex: 1600000 entries, 0 to 1599999\n",
      "Data columns (total 2 columns):\n",
      "text      1596753 non-null object\n",
      "target    1600000 non-null int64\n",
      "dtypes: int64(1), object(1)\n",
      "memory usage: 24.4+ MB\n"
     ]
    }
   ],
   "source": [
    "#Melihat informasi data secara umum\n",
    "df.info()"
   ]
  },
  {
   "cell_type": "code",
   "execution_count": 5,
   "metadata": {},
   "outputs": [
    {
     "data": {
      "text/plain": [
       "Index(['text', 'target'], dtype='object')"
      ]
     },
     "execution_count": 5,
     "metadata": {},
     "output_type": "execute_result"
    }
   ],
   "source": [
    "#Melihat nama kolom dari data\n",
    "df.columns"
   ]
  },
  {
   "cell_type": "code",
   "execution_count": 6,
   "metadata": {},
   "outputs": [
    {
     "data": {
      "text/plain": [
       "(1600000, 2)"
      ]
     },
     "execution_count": 6,
     "metadata": {},
     "output_type": "execute_result"
    }
   ],
   "source": [
    "#Melihat dimensi dari data\n",
    "#Terdapat 1.600.000 data dengan 2 features\n",
    "df.shape"
   ]
  },
  {
   "cell_type": "code",
   "execution_count": 7,
   "metadata": {},
   "outputs": [
    {
     "data": {
      "text/html": [
       "<div>\n",
       "<style scoped>\n",
       "    .dataframe tbody tr th:only-of-type {\n",
       "        vertical-align: middle;\n",
       "    }\n",
       "\n",
       "    .dataframe tbody tr th {\n",
       "        vertical-align: top;\n",
       "    }\n",
       "\n",
       "    .dataframe thead th {\n",
       "        text-align: right;\n",
       "    }\n",
       "</style>\n",
       "<table border=\"1\" class=\"dataframe\">\n",
       "  <thead>\n",
       "    <tr style=\"text-align: right;\">\n",
       "      <th></th>\n",
       "      <th>text</th>\n",
       "    </tr>\n",
       "  </thead>\n",
       "  <tbody>\n",
       "    <tr>\n",
       "      <th>count</th>\n",
       "      <td>1596753</td>\n",
       "    </tr>\n",
       "    <tr>\n",
       "      <th>unique</th>\n",
       "      <td>1524088</td>\n",
       "    </tr>\n",
       "    <tr>\n",
       "      <th>top</th>\n",
       "      <td>thanks</td>\n",
       "    </tr>\n",
       "    <tr>\n",
       "      <th>freq</th>\n",
       "      <td>1876</td>\n",
       "    </tr>\n",
       "  </tbody>\n",
       "</table>\n",
       "</div>"
      ],
      "text/plain": [
       "           text\n",
       "count   1596753\n",
       "unique  1524088\n",
       "top      thanks\n",
       "freq       1876"
      ]
     },
     "execution_count": 7,
     "metadata": {},
     "output_type": "execute_result"
    }
   ],
   "source": [
    "#Melihat statistika deskriptif dari tipe data string\n",
    "df.describe(include='object')"
   ]
  },
  {
   "cell_type": "code",
   "execution_count": 8,
   "metadata": {},
   "outputs": [
    {
     "data": {
      "text/html": [
       "<div>\n",
       "<style scoped>\n",
       "    .dataframe tbody tr th:only-of-type {\n",
       "        vertical-align: middle;\n",
       "    }\n",
       "\n",
       "    .dataframe tbody tr th {\n",
       "        vertical-align: top;\n",
       "    }\n",
       "\n",
       "    .dataframe thead th {\n",
       "        text-align: right;\n",
       "    }\n",
       "</style>\n",
       "<table border=\"1\" class=\"dataframe\">\n",
       "  <thead>\n",
       "    <tr style=\"text-align: right;\">\n",
       "      <th></th>\n",
       "      <th>target</th>\n",
       "    </tr>\n",
       "  </thead>\n",
       "  <tbody>\n",
       "    <tr>\n",
       "      <th>count</th>\n",
       "      <td>1600000.0</td>\n",
       "    </tr>\n",
       "    <tr>\n",
       "      <th>mean</th>\n",
       "      <td>0.5</td>\n",
       "    </tr>\n",
       "    <tr>\n",
       "      <th>std</th>\n",
       "      <td>0.5</td>\n",
       "    </tr>\n",
       "    <tr>\n",
       "      <th>min</th>\n",
       "      <td>0.0</td>\n",
       "    </tr>\n",
       "    <tr>\n",
       "      <th>25%</th>\n",
       "      <td>0.0</td>\n",
       "    </tr>\n",
       "    <tr>\n",
       "      <th>50%</th>\n",
       "      <td>0.5</td>\n",
       "    </tr>\n",
       "    <tr>\n",
       "      <th>75%</th>\n",
       "      <td>1.0</td>\n",
       "    </tr>\n",
       "    <tr>\n",
       "      <th>max</th>\n",
       "      <td>1.0</td>\n",
       "    </tr>\n",
       "  </tbody>\n",
       "</table>\n",
       "</div>"
      ],
      "text/plain": [
       "          target\n",
       "count  1600000.0\n",
       "mean         0.5\n",
       "std          0.5\n",
       "min          0.0\n",
       "25%          0.0\n",
       "50%          0.5\n",
       "75%          1.0\n",
       "max          1.0"
      ]
     },
     "execution_count": 8,
     "metadata": {},
     "output_type": "execute_result"
    }
   ],
   "source": [
    "#melihat statistika deskriptis dari data numerikal\n",
    "df.describe()"
   ]
  },
  {
   "cell_type": "markdown",
   "metadata": {},
   "source": [
    "## 3. Handling Missing Values"
   ]
  },
  {
   "cell_type": "code",
   "execution_count": 9,
   "metadata": {},
   "outputs": [
    {
     "data": {
      "text/plain": [
       "text      3247\n",
       "target       0\n",
       "dtype: int64"
      ]
     },
     "execution_count": 9,
     "metadata": {},
     "output_type": "execute_result"
    }
   ],
   "source": [
    "#Melihat jumlah data yang missing\n",
    "df.isnull().sum()"
   ]
  },
  {
   "cell_type": "code",
   "execution_count": 10,
   "metadata": {},
   "outputs": [
    {
     "data": {
      "text/plain": [
       "text      0.202937\n",
       "target    0.000000\n",
       "dtype: float64"
      ]
     },
     "execution_count": 10,
     "metadata": {},
     "output_type": "execute_result"
    }
   ],
   "source": [
    "#Data yang hilang sebesar 0.2%\n",
    "percentage = (df.isnull().sum() / len(df)) * 100\n",
    "percentage"
   ]
  },
  {
   "cell_type": "code",
   "execution_count": 11,
   "metadata": {},
   "outputs": [],
   "source": [
    "#Drop data yang null\n",
    "df.dropna(inplace=True)"
   ]
  },
  {
   "cell_type": "code",
   "execution_count": 12,
   "metadata": {},
   "outputs": [
    {
     "data": {
      "text/plain": [
       "text      0\n",
       "target    0\n",
       "dtype: int64"
      ]
     },
     "execution_count": 12,
     "metadata": {},
     "output_type": "execute_result"
    }
   ],
   "source": [
    "#Crosscheck\n",
    "df.isnull().sum()"
   ]
  },
  {
   "cell_type": "markdown",
   "metadata": {},
   "source": [
    "## 4. Data Preprocessing"
   ]
  },
  {
   "cell_type": "markdown",
   "metadata": {},
   "source": [
    "### 4.1 Menghapus Punctuation\n",
    "- Punctuation itu seperti tanda seru, tanda tanya, titik, koma.\n",
    "- Biar text hanya terdiri dari huruf dan angka."
   ]
  },
  {
   "cell_type": "code",
   "execution_count": 13,
   "metadata": {},
   "outputs": [
    {
     "data": {
      "text/html": [
       "<div>\n",
       "<style scoped>\n",
       "    .dataframe tbody tr th:only-of-type {\n",
       "        vertical-align: middle;\n",
       "    }\n",
       "\n",
       "    .dataframe tbody tr th {\n",
       "        vertical-align: top;\n",
       "    }\n",
       "\n",
       "    .dataframe thead th {\n",
       "        text-align: right;\n",
       "    }\n",
       "</style>\n",
       "<table border=\"1\" class=\"dataframe\">\n",
       "  <thead>\n",
       "    <tr style=\"text-align: right;\">\n",
       "      <th></th>\n",
       "      <th>text</th>\n",
       "      <th>target</th>\n",
       "    </tr>\n",
       "  </thead>\n",
       "  <tbody>\n",
       "    <tr>\n",
       "      <th>0</th>\n",
       "      <td>awww that s a bummer you shoulda got david car...</td>\n",
       "      <td>0</td>\n",
       "    </tr>\n",
       "    <tr>\n",
       "      <th>1</th>\n",
       "      <td>is upset that he can t update his facebook by ...</td>\n",
       "      <td>0</td>\n",
       "    </tr>\n",
       "    <tr>\n",
       "      <th>2</th>\n",
       "      <td>i dived many times for the ball managed to sav...</td>\n",
       "      <td>0</td>\n",
       "    </tr>\n",
       "    <tr>\n",
       "      <th>3</th>\n",
       "      <td>my whole body feels itchy and like its on fire</td>\n",
       "      <td>0</td>\n",
       "    </tr>\n",
       "    <tr>\n",
       "      <th>4</th>\n",
       "      <td>no it s not behaving at all i m mad why am i h...</td>\n",
       "      <td>0</td>\n",
       "    </tr>\n",
       "    <tr>\n",
       "      <th>5</th>\n",
       "      <td>not the whole crew</td>\n",
       "      <td>0</td>\n",
       "    </tr>\n",
       "    <tr>\n",
       "      <th>6</th>\n",
       "      <td>need a hug</td>\n",
       "      <td>0</td>\n",
       "    </tr>\n",
       "    <tr>\n",
       "      <th>7</th>\n",
       "      <td>hey long time no see yes rains a bit only a bi...</td>\n",
       "      <td>0</td>\n",
       "    </tr>\n",
       "    <tr>\n",
       "      <th>8</th>\n",
       "      <td>k nope they didn t have it</td>\n",
       "      <td>0</td>\n",
       "    </tr>\n",
       "    <tr>\n",
       "      <th>9</th>\n",
       "      <td>que me muera</td>\n",
       "      <td>0</td>\n",
       "    </tr>\n",
       "  </tbody>\n",
       "</table>\n",
       "</div>"
      ],
      "text/plain": [
       "                                                text  target\n",
       "0  awww that s a bummer you shoulda got david car...       0\n",
       "1  is upset that he can t update his facebook by ...       0\n",
       "2  i dived many times for the ball managed to sav...       0\n",
       "3     my whole body feels itchy and like its on fire       0\n",
       "4  no it s not behaving at all i m mad why am i h...       0\n",
       "5                                 not the whole crew       0\n",
       "6                                         need a hug       0\n",
       "7  hey long time no see yes rains a bit only a bi...       0\n",
       "8                         k nope they didn t have it       0\n",
       "9                                       que me muera       0"
      ]
     },
     "execution_count": 13,
     "metadata": {},
     "output_type": "execute_result"
    }
   ],
   "source": [
    "df['text'] = df['text'].str.replace('[^\\w\\s]','')\n",
    "df.head(10)"
   ]
  },
  {
   "cell_type": "markdown",
   "metadata": {},
   "source": [
    "### 4.2 Menghapus Stopwords\n",
    "- Stopwords itu kata umum yang sering muncul dan tidak memberikan makna seperti I, you dll."
   ]
  },
  {
   "cell_type": "code",
   "execution_count": 14,
   "metadata": {},
   "outputs": [
    {
     "data": {
      "text/plain": [
       "0         awww bummer shoulda got david carr third day\n",
       "1    upset update facebook texting might cry result...\n",
       "2    dived many times ball managed save rest go bounds\n",
       "3                     whole body feels itchy like fire\n",
       "4                                     behaving mad see\n",
       "5                                           whole crew\n",
       "6                                             need hug\n",
       "7    hey long time see yes rains bit bit lol fine t...\n",
       "8                                               k nope\n",
       "9                                            que muera\n",
       "Name: text, dtype: object"
      ]
     },
     "execution_count": 14,
     "metadata": {},
     "output_type": "execute_result"
    }
   ],
   "source": [
    "stop = stopwords.words('english')\n",
    "df['text'] = df['text'].apply(lambda x: \" \".join(x for x in x.split() if x not in stop))\n",
    "df['text'].head(10)"
   ]
  },
  {
   "cell_type": "markdown",
   "metadata": {},
   "source": [
    "### 4.3 Menghapus Kata Tidak Penting dan Kata Sering Muncul"
   ]
  },
  {
   "cell_type": "code",
   "execution_count": 15,
   "metadata": {},
   "outputs": [
    {
     "data": {
      "text/plain": [
       "good     91355\n",
       "day      89776\n",
       "get      82176\n",
       "like     78582\n",
       "go       74031\n",
       "today    68226\n",
       "work     64960\n",
       "love     64857\n",
       "going    64633\n",
       "got      61454\n",
       "dtype: int64"
      ]
     },
     "execution_count": 15,
     "metadata": {},
     "output_type": "execute_result"
    }
   ],
   "source": [
    "#Menghitung jumlah kata yang muncul\n",
    "common = pd.Series(' '.join(df['text']).split()).value_counts()\n",
    "common[:10]"
   ]
  },
  {
   "cell_type": "code",
   "execution_count": 16,
   "metadata": {},
   "outputs": [
    {
     "data": {
      "text/plain": [
       "['u',\n",
       " 'x',\n",
       " 'n',\n",
       " 'b',\n",
       " 'w',\n",
       " 'r',\n",
       " 'p',\n",
       " 'c',\n",
       " 'e',\n",
       " 'g',\n",
       " 'l',\n",
       " 'k',\n",
       " 'f',\n",
       " 'v',\n",
       " 'h',\n",
       " 'j',\n",
       " 'z',\n",
       " 'q']"
      ]
     },
     "execution_count": 16,
     "metadata": {},
     "output_type": "execute_result"
    }
   ],
   "source": [
    "#Beberapa common words yang akan saya hapus adalah\n",
    "#Saya akan menghapus kata yang panjangnya kurang dari 2 karena itu tidak memberikan informasi apa apa.\n",
    "tidak_penting = []\n",
    "for word in common.index:\n",
    "    if len(word)<2:\n",
    "        tidak_penting.append(word)\n",
    "tidak_penting"
   ]
  },
  {
   "cell_type": "code",
   "execution_count": 17,
   "metadata": {},
   "outputs": [
    {
     "data": {
      "text/plain": [
       "0         awww bummer shoulda got david carr third day\n",
       "1    upset update facebook texting might cry result...\n",
       "2    dived many times ball managed save rest go bounds\n",
       "3                     whole body feels itchy like fire\n",
       "4                                     behaving mad see\n",
       "Name: text, dtype: object"
      ]
     },
     "execution_count": 17,
     "metadata": {},
     "output_type": "execute_result"
    }
   ],
   "source": [
    "#Memasukan ke dalam fungsi\n",
    "tidak_penting = list(tidak_penting)\n",
    "df['text'] = df['text'].apply(lambda x: \" \".join(x for x in x.split() if x not in tidak_penting))\n",
    "df['text'].head()"
   ]
  },
  {
   "cell_type": "code",
   "execution_count": 18,
   "metadata": {},
   "outputs": [
    {
     "data": {
      "text/plain": [
       "0         awww bummer shoulda got david carr third day\n",
       "1    upset update facebook texting might cry result...\n",
       "2    dived many times ball managed save rest go bounds\n",
       "3                     whole body feels itchy like fire\n",
       "4                                     behaving mad see\n",
       "Name: text, dtype: object"
      ]
     },
     "execution_count": 18,
     "metadata": {},
     "output_type": "execute_result"
    }
   ],
   "source": [
    "#Lalu ada juga beberapa kata yang sering muncul yang akan saya hapus\n",
    "sering = ['one', 'time']\n",
    "sering = list(sering)\n",
    "df['text'] = df['text'].apply(lambda x: \" \".join(x for x in x.split() if x not in sering))\n",
    "df['text'].head()"
   ]
  },
  {
   "cell_type": "markdown",
   "metadata": {},
   "source": [
    "### 4.4 Menghapus Kata yang Jarang Muncul"
   ]
  },
  {
   "cell_type": "code",
   "execution_count": 19,
   "metadata": {},
   "outputs": [
    {
     "data": {
      "text/plain": [
       "funkadelic            1\n",
       "naceous               1\n",
       "hwkr                  1\n",
       "benieuwd              1\n",
       "lnou                  1\n",
       "umqemcwqyi            1\n",
       "shareaholic           1\n",
       "mannnnnnnnnnnnnnnn    1\n",
       "imakill               1\n",
       "tahir                 1\n",
       "dtype: int64"
      ]
     },
     "execution_count": 19,
     "metadata": {},
     "output_type": "execute_result"
    }
   ],
   "source": [
    "#Menghitung kata yang jarang muncul yang kemunculanya kurang dari 1\n",
    "jarang = common[common<2][:1000]\n",
    "jarang[:10]"
   ]
  },
  {
   "cell_type": "code",
   "execution_count": 20,
   "metadata": {},
   "outputs": [
    {
     "data": {
      "text/plain": [
       "0         awww bummer shoulda got david carr third day\n",
       "1    upset update facebook texting might cry result...\n",
       "2    dived many times ball managed save rest go bounds\n",
       "3                     whole body feels itchy like fire\n",
       "4                                     behaving mad see\n",
       "Name: text, dtype: object"
      ]
     },
     "execution_count": 20,
     "metadata": {},
     "output_type": "execute_result"
    }
   ],
   "source": [
    "#Memasukan ke dalam fungsi\n",
    "jarang = list(jarang.index)\n",
    "df['text'] = df['text'].apply(lambda x: \" \".join(x for x in x.split() if x not in jarang))\n",
    "df['text'].head()"
   ]
  },
  {
   "cell_type": "markdown",
   "metadata": {},
   "source": [
    "### 4.5 Lemmatization\n",
    "- Mengubah sebuah kata menjadi kata dasarnya."
   ]
  },
  {
   "cell_type": "code",
   "execution_count": 21,
   "metadata": {},
   "outputs": [
    {
     "data": {
      "text/plain": [
       "0         awww bummer shoulda got david carr third day\n",
       "1    upset update facebook texting might cry result...\n",
       "2      dived many time ball managed save rest go bound\n",
       "3                      whole body feel itchy like fire\n",
       "4                                     behaving mad see\n",
       "Name: text, dtype: object"
      ]
     },
     "execution_count": 21,
     "metadata": {},
     "output_type": "execute_result"
    }
   ],
   "source": [
    "df['text'] = df['text'].apply(lambda x: \" \".join([Word(word).lemmatize() for word in x.split()]))\n",
    "df['text'].head()"
   ]
  },
  {
   "cell_type": "markdown",
   "metadata": {},
   "source": [
    "## 5. Extract Feature\n",
    "- Melakukan feature extraction untuk mendapatkan fitur fitur yang terpendam dan bisa memberikan informasi lebih."
   ]
  },
  {
   "cell_type": "markdown",
   "metadata": {},
   "source": [
    "### 5.1 Jumlah Kata\n",
    "- Fitur ini menjelaskan jumlah kata dalam 1 tweet."
   ]
  },
  {
   "cell_type": "code",
   "execution_count": 22,
   "metadata": {},
   "outputs": [
    {
     "data": {
      "text/html": [
       "<div>\n",
       "<style scoped>\n",
       "    .dataframe tbody tr th:only-of-type {\n",
       "        vertical-align: middle;\n",
       "    }\n",
       "\n",
       "    .dataframe tbody tr th {\n",
       "        vertical-align: top;\n",
       "    }\n",
       "\n",
       "    .dataframe thead th {\n",
       "        text-align: right;\n",
       "    }\n",
       "</style>\n",
       "<table border=\"1\" class=\"dataframe\">\n",
       "  <thead>\n",
       "    <tr style=\"text-align: right;\">\n",
       "      <th></th>\n",
       "      <th>text</th>\n",
       "      <th>target</th>\n",
       "      <th>jumlah_kata</th>\n",
       "    </tr>\n",
       "  </thead>\n",
       "  <tbody>\n",
       "    <tr>\n",
       "      <th>0</th>\n",
       "      <td>awww bummer shoulda got david carr third day</td>\n",
       "      <td>0</td>\n",
       "      <td>8</td>\n",
       "    </tr>\n",
       "    <tr>\n",
       "      <th>1</th>\n",
       "      <td>upset update facebook texting might cry result...</td>\n",
       "      <td>0</td>\n",
       "      <td>11</td>\n",
       "    </tr>\n",
       "    <tr>\n",
       "      <th>2</th>\n",
       "      <td>dived many time ball managed save rest go bound</td>\n",
       "      <td>0</td>\n",
       "      <td>9</td>\n",
       "    </tr>\n",
       "    <tr>\n",
       "      <th>3</th>\n",
       "      <td>whole body feel itchy like fire</td>\n",
       "      <td>0</td>\n",
       "      <td>6</td>\n",
       "    </tr>\n",
       "    <tr>\n",
       "      <th>4</th>\n",
       "      <td>behaving mad see</td>\n",
       "      <td>0</td>\n",
       "      <td>3</td>\n",
       "    </tr>\n",
       "  </tbody>\n",
       "</table>\n",
       "</div>"
      ],
      "text/plain": [
       "                                                text  target  jumlah_kata\n",
       "0       awww bummer shoulda got david carr third day       0            8\n",
       "1  upset update facebook texting might cry result...       0           11\n",
       "2    dived many time ball managed save rest go bound       0            9\n",
       "3                    whole body feel itchy like fire       0            6\n",
       "4                                   behaving mad see       0            3"
      ]
     },
     "execution_count": 22,
     "metadata": {},
     "output_type": "execute_result"
    }
   ],
   "source": [
    "df['jumlah_kata'] = df['text'].apply(lambda x: len(str(x).split(\" \")))\n",
    "df.head()"
   ]
  },
  {
   "cell_type": "markdown",
   "metadata": {},
   "source": [
    "### 5.2 Jumlah Characters\n",
    "- Fitur ini menjelaskan jumlah huruf atau characters dalam 1 tweet"
   ]
  },
  {
   "cell_type": "code",
   "execution_count": 23,
   "metadata": {},
   "outputs": [
    {
     "data": {
      "text/html": [
       "<div>\n",
       "<style scoped>\n",
       "    .dataframe tbody tr th:only-of-type {\n",
       "        vertical-align: middle;\n",
       "    }\n",
       "\n",
       "    .dataframe tbody tr th {\n",
       "        vertical-align: top;\n",
       "    }\n",
       "\n",
       "    .dataframe thead th {\n",
       "        text-align: right;\n",
       "    }\n",
       "</style>\n",
       "<table border=\"1\" class=\"dataframe\">\n",
       "  <thead>\n",
       "    <tr style=\"text-align: right;\">\n",
       "      <th></th>\n",
       "      <th>text</th>\n",
       "      <th>target</th>\n",
       "      <th>jumlah_kata</th>\n",
       "      <th>jumlah_char</th>\n",
       "    </tr>\n",
       "  </thead>\n",
       "  <tbody>\n",
       "    <tr>\n",
       "      <th>0</th>\n",
       "      <td>awww bummer shoulda got david carr third day</td>\n",
       "      <td>0</td>\n",
       "      <td>8</td>\n",
       "      <td>44</td>\n",
       "    </tr>\n",
       "    <tr>\n",
       "      <th>1</th>\n",
       "      <td>upset update facebook texting might cry result...</td>\n",
       "      <td>0</td>\n",
       "      <td>11</td>\n",
       "      <td>69</td>\n",
       "    </tr>\n",
       "    <tr>\n",
       "      <th>2</th>\n",
       "      <td>dived many time ball managed save rest go bound</td>\n",
       "      <td>0</td>\n",
       "      <td>9</td>\n",
       "      <td>47</td>\n",
       "    </tr>\n",
       "    <tr>\n",
       "      <th>3</th>\n",
       "      <td>whole body feel itchy like fire</td>\n",
       "      <td>0</td>\n",
       "      <td>6</td>\n",
       "      <td>31</td>\n",
       "    </tr>\n",
       "    <tr>\n",
       "      <th>4</th>\n",
       "      <td>behaving mad see</td>\n",
       "      <td>0</td>\n",
       "      <td>3</td>\n",
       "      <td>16</td>\n",
       "    </tr>\n",
       "  </tbody>\n",
       "</table>\n",
       "</div>"
      ],
      "text/plain": [
       "                                                text  target  jumlah_kata  \\\n",
       "0       awww bummer shoulda got david carr third day       0            8   \n",
       "1  upset update facebook texting might cry result...       0           11   \n",
       "2    dived many time ball managed save rest go bound       0            9   \n",
       "3                    whole body feel itchy like fire       0            6   \n",
       "4                                   behaving mad see       0            3   \n",
       "\n",
       "   jumlah_char  \n",
       "0           44  \n",
       "1           69  \n",
       "2           47  \n",
       "3           31  \n",
       "4           16  "
      ]
     },
     "execution_count": 23,
     "metadata": {},
     "output_type": "execute_result"
    }
   ],
   "source": [
    "df['jumlah_char'] = df['text'].str.len()\n",
    "df.head()"
   ]
  },
  {
   "cell_type": "markdown",
   "metadata": {},
   "source": [
    "### 5.3 Rata Rata Panjang Kata\n",
    "- - Fitur ini menjelaskan jumlah huruf dibagi dengan jumlah kata dalam 1 tweet."
   ]
  },
  {
   "cell_type": "code",
   "execution_count": 24,
   "metadata": {},
   "outputs": [
    {
     "data": {
      "text/html": [
       "<div>\n",
       "<style scoped>\n",
       "    .dataframe tbody tr th:only-of-type {\n",
       "        vertical-align: middle;\n",
       "    }\n",
       "\n",
       "    .dataframe tbody tr th {\n",
       "        vertical-align: top;\n",
       "    }\n",
       "\n",
       "    .dataframe thead th {\n",
       "        text-align: right;\n",
       "    }\n",
       "</style>\n",
       "<table border=\"1\" class=\"dataframe\">\n",
       "  <thead>\n",
       "    <tr style=\"text-align: right;\">\n",
       "      <th></th>\n",
       "      <th>text</th>\n",
       "      <th>target</th>\n",
       "      <th>jumlah_kata</th>\n",
       "      <th>jumlah_char</th>\n",
       "      <th>rata_rata_kata</th>\n",
       "    </tr>\n",
       "  </thead>\n",
       "  <tbody>\n",
       "    <tr>\n",
       "      <th>0</th>\n",
       "      <td>awww bummer shoulda got david carr third day</td>\n",
       "      <td>0</td>\n",
       "      <td>8</td>\n",
       "      <td>44</td>\n",
       "      <td>5.50</td>\n",
       "    </tr>\n",
       "    <tr>\n",
       "      <th>1</th>\n",
       "      <td>upset update facebook texting might cry result...</td>\n",
       "      <td>0</td>\n",
       "      <td>11</td>\n",
       "      <td>69</td>\n",
       "      <td>6.27</td>\n",
       "    </tr>\n",
       "    <tr>\n",
       "      <th>2</th>\n",
       "      <td>dived many time ball managed save rest go bound</td>\n",
       "      <td>0</td>\n",
       "      <td>9</td>\n",
       "      <td>47</td>\n",
       "      <td>5.22</td>\n",
       "    </tr>\n",
       "    <tr>\n",
       "      <th>3</th>\n",
       "      <td>whole body feel itchy like fire</td>\n",
       "      <td>0</td>\n",
       "      <td>6</td>\n",
       "      <td>31</td>\n",
       "      <td>5.17</td>\n",
       "    </tr>\n",
       "    <tr>\n",
       "      <th>4</th>\n",
       "      <td>behaving mad see</td>\n",
       "      <td>0</td>\n",
       "      <td>3</td>\n",
       "      <td>16</td>\n",
       "      <td>5.33</td>\n",
       "    </tr>\n",
       "  </tbody>\n",
       "</table>\n",
       "</div>"
      ],
      "text/plain": [
       "                                                text  target  jumlah_kata  \\\n",
       "0       awww bummer shoulda got david carr third day       0            8   \n",
       "1  upset update facebook texting might cry result...       0           11   \n",
       "2    dived many time ball managed save rest go bound       0            9   \n",
       "3                    whole body feel itchy like fire       0            6   \n",
       "4                                   behaving mad see       0            3   \n",
       "\n",
       "   jumlah_char  rata_rata_kata  \n",
       "0           44            5.50  \n",
       "1           69            6.27  \n",
       "2           47            5.22  \n",
       "3           31            5.17  \n",
       "4           16            5.33  "
      ]
     },
     "execution_count": 24,
     "metadata": {},
     "output_type": "execute_result"
    }
   ],
   "source": [
    "df['rata_rata_kata'] = df['jumlah_char'] / df['jumlah_kata']\n",
    "df['rata_rata_kata'] = [round(x, 2) for x in df['rata_rata_kata'].values]\n",
    "df.head()"
   ]
  },
  {
   "cell_type": "markdown",
   "metadata": {},
   "source": [
    "### 5.4 Jumlah Character Numerik\n",
    "- - Fitur ini menjelaskan jumlah huruf numerik dalam 1 tweet"
   ]
  },
  {
   "cell_type": "code",
   "execution_count": 25,
   "metadata": {},
   "outputs": [
    {
     "data": {
      "text/html": [
       "<div>\n",
       "<style scoped>\n",
       "    .dataframe tbody tr th:only-of-type {\n",
       "        vertical-align: middle;\n",
       "    }\n",
       "\n",
       "    .dataframe tbody tr th {\n",
       "        vertical-align: top;\n",
       "    }\n",
       "\n",
       "    .dataframe thead th {\n",
       "        text-align: right;\n",
       "    }\n",
       "</style>\n",
       "<table border=\"1\" class=\"dataframe\">\n",
       "  <thead>\n",
       "    <tr style=\"text-align: right;\">\n",
       "      <th></th>\n",
       "      <th>text</th>\n",
       "      <th>target</th>\n",
       "      <th>jumlah_kata</th>\n",
       "      <th>jumlah_char</th>\n",
       "      <th>rata_rata_kata</th>\n",
       "      <th>numerik</th>\n",
       "    </tr>\n",
       "  </thead>\n",
       "  <tbody>\n",
       "    <tr>\n",
       "      <th>0</th>\n",
       "      <td>awww bummer shoulda got david carr third day</td>\n",
       "      <td>0</td>\n",
       "      <td>8</td>\n",
       "      <td>44</td>\n",
       "      <td>5.50</td>\n",
       "      <td>0</td>\n",
       "    </tr>\n",
       "    <tr>\n",
       "      <th>1</th>\n",
       "      <td>upset update facebook texting might cry result...</td>\n",
       "      <td>0</td>\n",
       "      <td>11</td>\n",
       "      <td>69</td>\n",
       "      <td>6.27</td>\n",
       "      <td>0</td>\n",
       "    </tr>\n",
       "    <tr>\n",
       "      <th>2</th>\n",
       "      <td>dived many time ball managed save rest go bound</td>\n",
       "      <td>0</td>\n",
       "      <td>9</td>\n",
       "      <td>47</td>\n",
       "      <td>5.22</td>\n",
       "      <td>0</td>\n",
       "    </tr>\n",
       "    <tr>\n",
       "      <th>3</th>\n",
       "      <td>whole body feel itchy like fire</td>\n",
       "      <td>0</td>\n",
       "      <td>6</td>\n",
       "      <td>31</td>\n",
       "      <td>5.17</td>\n",
       "      <td>0</td>\n",
       "    </tr>\n",
       "    <tr>\n",
       "      <th>4</th>\n",
       "      <td>behaving mad see</td>\n",
       "      <td>0</td>\n",
       "      <td>3</td>\n",
       "      <td>16</td>\n",
       "      <td>5.33</td>\n",
       "      <td>0</td>\n",
       "    </tr>\n",
       "  </tbody>\n",
       "</table>\n",
       "</div>"
      ],
      "text/plain": [
       "                                                text  target  jumlah_kata  \\\n",
       "0       awww bummer shoulda got david carr third day       0            8   \n",
       "1  upset update facebook texting might cry result...       0           11   \n",
       "2    dived many time ball managed save rest go bound       0            9   \n",
       "3                    whole body feel itchy like fire       0            6   \n",
       "4                                   behaving mad see       0            3   \n",
       "\n",
       "   jumlah_char  rata_rata_kata  numerik  \n",
       "0           44            5.50        0  \n",
       "1           69            6.27        0  \n",
       "2           47            5.22        0  \n",
       "3           31            5.17        0  \n",
       "4           16            5.33        0  "
      ]
     },
     "execution_count": 25,
     "metadata": {},
     "output_type": "execute_result"
    }
   ],
   "source": [
    "df['numerik'] = df['text'].apply(lambda x: len([x for x in x.split() if x.isdigit()]))\n",
    "df.head()"
   ]
  },
  {
   "cell_type": "markdown",
   "metadata": {},
   "source": [
    "### 5.5 Labelling\n",
    "- Memberikan label kepada target sehingga mudah dibaca."
   ]
  },
  {
   "cell_type": "code",
   "execution_count": 26,
   "metadata": {},
   "outputs": [],
   "source": [
    "#Membuat dictionary label\n",
    "label = {\n",
    "    0 : 'Negatif',\n",
    "    1 : 'Positif'\n",
    "}"
   ]
  },
  {
   "cell_type": "code",
   "execution_count": 27,
   "metadata": {},
   "outputs": [],
   "source": [
    "#Membuat labelling\n",
    "df['sentiment'] = df['target']\n",
    "df['sentiment'].replace(label, inplace=True)"
   ]
  },
  {
   "cell_type": "code",
   "execution_count": 28,
   "metadata": {},
   "outputs": [],
   "source": [
    "#Arranging kolom agar lebih mudah dibaca.\n",
    "kolom = ['text', 'jumlah_kata', 'jumlah_char', 'rata_rata_kata', 'numerik', 'target', 'sentiment']\n",
    "df = df[kolom]"
   ]
  },
  {
   "cell_type": "markdown",
   "metadata": {},
   "source": [
    "## 6. Visualisasi Data\n",
    "- Melakukan visualisasi agar bisa lebih mendalami characteristics dari data sehingga bisa menemukan insights dari data."
   ]
  },
  {
   "cell_type": "code",
   "execution_count": 29,
   "metadata": {},
   "outputs": [
    {
     "data": {
      "text/html": [
       "<div>\n",
       "<style scoped>\n",
       "    .dataframe tbody tr th:only-of-type {\n",
       "        vertical-align: middle;\n",
       "    }\n",
       "\n",
       "    .dataframe tbody tr th {\n",
       "        vertical-align: top;\n",
       "    }\n",
       "\n",
       "    .dataframe thead th {\n",
       "        text-align: right;\n",
       "    }\n",
       "</style>\n",
       "<table border=\"1\" class=\"dataframe\">\n",
       "  <thead>\n",
       "    <tr style=\"text-align: right;\">\n",
       "      <th></th>\n",
       "      <th>text</th>\n",
       "      <th>jumlah_kata</th>\n",
       "      <th>jumlah_char</th>\n",
       "      <th>rata_rata_kata</th>\n",
       "      <th>numerik</th>\n",
       "      <th>target</th>\n",
       "      <th>sentiment</th>\n",
       "    </tr>\n",
       "  </thead>\n",
       "  <tbody>\n",
       "    <tr>\n",
       "      <th>0</th>\n",
       "      <td>awww bummer shoulda got david carr third day</td>\n",
       "      <td>8</td>\n",
       "      <td>44</td>\n",
       "      <td>5.50</td>\n",
       "      <td>0</td>\n",
       "      <td>0</td>\n",
       "      <td>Negatif</td>\n",
       "    </tr>\n",
       "    <tr>\n",
       "      <th>1</th>\n",
       "      <td>upset update facebook texting might cry result...</td>\n",
       "      <td>11</td>\n",
       "      <td>69</td>\n",
       "      <td>6.27</td>\n",
       "      <td>0</td>\n",
       "      <td>0</td>\n",
       "      <td>Negatif</td>\n",
       "    </tr>\n",
       "    <tr>\n",
       "      <th>2</th>\n",
       "      <td>dived many time ball managed save rest go bound</td>\n",
       "      <td>9</td>\n",
       "      <td>47</td>\n",
       "      <td>5.22</td>\n",
       "      <td>0</td>\n",
       "      <td>0</td>\n",
       "      <td>Negatif</td>\n",
       "    </tr>\n",
       "    <tr>\n",
       "      <th>3</th>\n",
       "      <td>whole body feel itchy like fire</td>\n",
       "      <td>6</td>\n",
       "      <td>31</td>\n",
       "      <td>5.17</td>\n",
       "      <td>0</td>\n",
       "      <td>0</td>\n",
       "      <td>Negatif</td>\n",
       "    </tr>\n",
       "    <tr>\n",
       "      <th>4</th>\n",
       "      <td>behaving mad see</td>\n",
       "      <td>3</td>\n",
       "      <td>16</td>\n",
       "      <td>5.33</td>\n",
       "      <td>0</td>\n",
       "      <td>0</td>\n",
       "      <td>Negatif</td>\n",
       "    </tr>\n",
       "  </tbody>\n",
       "</table>\n",
       "</div>"
      ],
      "text/plain": [
       "                                                text  jumlah_kata  \\\n",
       "0       awww bummer shoulda got david carr third day            8   \n",
       "1  upset update facebook texting might cry result...           11   \n",
       "2    dived many time ball managed save rest go bound            9   \n",
       "3                    whole body feel itchy like fire            6   \n",
       "4                                   behaving mad see            3   \n",
       "\n",
       "   jumlah_char  rata_rata_kata  numerik  target sentiment  \n",
       "0           44            5.50        0       0   Negatif  \n",
       "1           69            6.27        0       0   Negatif  \n",
       "2           47            5.22        0       0   Negatif  \n",
       "3           31            5.17        0       0   Negatif  \n",
       "4           16            5.33        0       0   Negatif  "
      ]
     },
     "execution_count": 29,
     "metadata": {},
     "output_type": "execute_result"
    }
   ],
   "source": [
    "df.head()"
   ]
  },
  {
   "cell_type": "markdown",
   "metadata": {},
   "source": [
    "### 6.1 Korelasi Score\n",
    "- Mencari correlation score untuk melihat hubungan linear antar features."
   ]
  },
  {
   "cell_type": "code",
   "execution_count": 30,
   "metadata": {},
   "outputs": [
    {
     "data": {
      "text/html": [
       "<style  type=\"text/css\" >\n",
       "    #T_db02e22e_ec32_11e9_b6d8_309c23131503row0_col0 {\n",
       "            background-color:  #fff7fb;\n",
       "            color:  #000000;\n",
       "        }    #T_db02e22e_ec32_11e9_b6d8_309c23131503row0_col1 {\n",
       "            background-color:  #fff7fb;\n",
       "            color:  #000000;\n",
       "        }    #T_db02e22e_ec32_11e9_b6d8_309c23131503row0_col2 {\n",
       "            background-color:  #fff7fb;\n",
       "            color:  #000000;\n",
       "        }    #T_db02e22e_ec32_11e9_b6d8_309c23131503row0_col3 {\n",
       "            background-color:  #fff7fb;\n",
       "            color:  #000000;\n",
       "        }    #T_db02e22e_ec32_11e9_b6d8_309c23131503row0_col4 {\n",
       "            background-color:  #fff7fb;\n",
       "            color:  #000000;\n",
       "        }    #T_db02e22e_ec32_11e9_b6d8_309c23131503row1_col0 {\n",
       "            background-color:  #fff7fb;\n",
       "            color:  #000000;\n",
       "        }    #T_db02e22e_ec32_11e9_b6d8_309c23131503row1_col1 {\n",
       "            background-color:  #fff7fb;\n",
       "            color:  #000000;\n",
       "        }    #T_db02e22e_ec32_11e9_b6d8_309c23131503row1_col2 {\n",
       "            background-color:  #fff7fb;\n",
       "            color:  #000000;\n",
       "        }    #T_db02e22e_ec32_11e9_b6d8_309c23131503row1_col3 {\n",
       "            background-color:  #fff7fb;\n",
       "            color:  #000000;\n",
       "        }    #T_db02e22e_ec32_11e9_b6d8_309c23131503row1_col4 {\n",
       "            background-color:  #fff7fb;\n",
       "            color:  #000000;\n",
       "        }    #T_db02e22e_ec32_11e9_b6d8_309c23131503row2_col0 {\n",
       "            background-color:  #fff7fb;\n",
       "            color:  #000000;\n",
       "        }    #T_db02e22e_ec32_11e9_b6d8_309c23131503row2_col1 {\n",
       "            background-color:  #fff7fb;\n",
       "            color:  #000000;\n",
       "        }    #T_db02e22e_ec32_11e9_b6d8_309c23131503row2_col2 {\n",
       "            background-color:  #fff7fb;\n",
       "            color:  #000000;\n",
       "        }    #T_db02e22e_ec32_11e9_b6d8_309c23131503row2_col3 {\n",
       "            background-color:  #fff7fb;\n",
       "            color:  #000000;\n",
       "        }    #T_db02e22e_ec32_11e9_b6d8_309c23131503row2_col4 {\n",
       "            background-color:  #fff7fb;\n",
       "            color:  #000000;\n",
       "        }    #T_db02e22e_ec32_11e9_b6d8_309c23131503row3_col0 {\n",
       "            background-color:  #fff7fb;\n",
       "            color:  #000000;\n",
       "        }    #T_db02e22e_ec32_11e9_b6d8_309c23131503row3_col1 {\n",
       "            background-color:  #fff7fb;\n",
       "            color:  #000000;\n",
       "        }    #T_db02e22e_ec32_11e9_b6d8_309c23131503row3_col2 {\n",
       "            background-color:  #fff7fb;\n",
       "            color:  #000000;\n",
       "        }    #T_db02e22e_ec32_11e9_b6d8_309c23131503row3_col3 {\n",
       "            background-color:  #fff7fb;\n",
       "            color:  #000000;\n",
       "        }    #T_db02e22e_ec32_11e9_b6d8_309c23131503row3_col4 {\n",
       "            background-color:  #fff7fb;\n",
       "            color:  #000000;\n",
       "        }    #T_db02e22e_ec32_11e9_b6d8_309c23131503row4_col0 {\n",
       "            background-color:  #fff7fb;\n",
       "            color:  #000000;\n",
       "        }    #T_db02e22e_ec32_11e9_b6d8_309c23131503row4_col1 {\n",
       "            background-color:  #fff7fb;\n",
       "            color:  #000000;\n",
       "        }    #T_db02e22e_ec32_11e9_b6d8_309c23131503row4_col2 {\n",
       "            background-color:  #fff7fb;\n",
       "            color:  #000000;\n",
       "        }    #T_db02e22e_ec32_11e9_b6d8_309c23131503row4_col3 {\n",
       "            background-color:  #fff7fb;\n",
       "            color:  #000000;\n",
       "        }    #T_db02e22e_ec32_11e9_b6d8_309c23131503row4_col4 {\n",
       "            background-color:  #fff7fb;\n",
       "            color:  #000000;\n",
       "        }</style><table id=\"T_db02e22e_ec32_11e9_b6d8_309c23131503\" ><thead>    <tr>        <th class=\"blank level0\" ></th>        <th class=\"col_heading level0 col0\" >jumlah_kata</th>        <th class=\"col_heading level0 col1\" >jumlah_char</th>        <th class=\"col_heading level0 col2\" >rata_rata_kata</th>        <th class=\"col_heading level0 col3\" >numerik</th>        <th class=\"col_heading level0 col4\" >target</th>    </tr></thead><tbody>\n",
       "                <tr>\n",
       "                        <th id=\"T_db02e22e_ec32_11e9_b6d8_309c23131503level0_row0\" class=\"row_heading level0 row0\" >jumlah_kata</th>\n",
       "                        <td id=\"T_db02e22e_ec32_11e9_b6d8_309c23131503row0_col0\" class=\"data row0 col0\" >1</td>\n",
       "                        <td id=\"T_db02e22e_ec32_11e9_b6d8_309c23131503row0_col1\" class=\"data row0 col1\" >0.97</td>\n",
       "                        <td id=\"T_db02e22e_ec32_11e9_b6d8_309c23131503row0_col2\" class=\"data row0 col2\" >0.064</td>\n",
       "                        <td id=\"T_db02e22e_ec32_11e9_b6d8_309c23131503row0_col3\" class=\"data row0 col3\" >nan</td>\n",
       "                        <td id=\"T_db02e22e_ec32_11e9_b6d8_309c23131503row0_col4\" class=\"data row0 col4\" >-0.042</td>\n",
       "            </tr>\n",
       "            <tr>\n",
       "                        <th id=\"T_db02e22e_ec32_11e9_b6d8_309c23131503level0_row1\" class=\"row_heading level0 row1\" >jumlah_char</th>\n",
       "                        <td id=\"T_db02e22e_ec32_11e9_b6d8_309c23131503row1_col0\" class=\"data row1 col0\" >0.97</td>\n",
       "                        <td id=\"T_db02e22e_ec32_11e9_b6d8_309c23131503row1_col1\" class=\"data row1 col1\" >1</td>\n",
       "                        <td id=\"T_db02e22e_ec32_11e9_b6d8_309c23131503row1_col2\" class=\"data row1 col2\" >0.26</td>\n",
       "                        <td id=\"T_db02e22e_ec32_11e9_b6d8_309c23131503row1_col3\" class=\"data row1 col3\" >nan</td>\n",
       "                        <td id=\"T_db02e22e_ec32_11e9_b6d8_309c23131503row1_col4\" class=\"data row1 col4\" >-0.029</td>\n",
       "            </tr>\n",
       "            <tr>\n",
       "                        <th id=\"T_db02e22e_ec32_11e9_b6d8_309c23131503level0_row2\" class=\"row_heading level0 row2\" >rata_rata_kata</th>\n",
       "                        <td id=\"T_db02e22e_ec32_11e9_b6d8_309c23131503row2_col0\" class=\"data row2 col0\" >0.064</td>\n",
       "                        <td id=\"T_db02e22e_ec32_11e9_b6d8_309c23131503row2_col1\" class=\"data row2 col1\" >0.26</td>\n",
       "                        <td id=\"T_db02e22e_ec32_11e9_b6d8_309c23131503row2_col2\" class=\"data row2 col2\" >1</td>\n",
       "                        <td id=\"T_db02e22e_ec32_11e9_b6d8_309c23131503row2_col3\" class=\"data row2 col3\" >nan</td>\n",
       "                        <td id=\"T_db02e22e_ec32_11e9_b6d8_309c23131503row2_col4\" class=\"data row2 col4\" >0.042</td>\n",
       "            </tr>\n",
       "            <tr>\n",
       "                        <th id=\"T_db02e22e_ec32_11e9_b6d8_309c23131503level0_row3\" class=\"row_heading level0 row3\" >numerik</th>\n",
       "                        <td id=\"T_db02e22e_ec32_11e9_b6d8_309c23131503row3_col0\" class=\"data row3 col0\" >nan</td>\n",
       "                        <td id=\"T_db02e22e_ec32_11e9_b6d8_309c23131503row3_col1\" class=\"data row3 col1\" >nan</td>\n",
       "                        <td id=\"T_db02e22e_ec32_11e9_b6d8_309c23131503row3_col2\" class=\"data row3 col2\" >nan</td>\n",
       "                        <td id=\"T_db02e22e_ec32_11e9_b6d8_309c23131503row3_col3\" class=\"data row3 col3\" >nan</td>\n",
       "                        <td id=\"T_db02e22e_ec32_11e9_b6d8_309c23131503row3_col4\" class=\"data row3 col4\" >nan</td>\n",
       "            </tr>\n",
       "            <tr>\n",
       "                        <th id=\"T_db02e22e_ec32_11e9_b6d8_309c23131503level0_row4\" class=\"row_heading level0 row4\" >target</th>\n",
       "                        <td id=\"T_db02e22e_ec32_11e9_b6d8_309c23131503row4_col0\" class=\"data row4 col0\" >-0.042</td>\n",
       "                        <td id=\"T_db02e22e_ec32_11e9_b6d8_309c23131503row4_col1\" class=\"data row4 col1\" >-0.029</td>\n",
       "                        <td id=\"T_db02e22e_ec32_11e9_b6d8_309c23131503row4_col2\" class=\"data row4 col2\" >0.042</td>\n",
       "                        <td id=\"T_db02e22e_ec32_11e9_b6d8_309c23131503row4_col3\" class=\"data row4 col3\" >nan</td>\n",
       "                        <td id=\"T_db02e22e_ec32_11e9_b6d8_309c23131503row4_col4\" class=\"data row4 col4\" >1</td>\n",
       "            </tr>\n",
       "    </tbody></table>"
      ],
      "text/plain": [
       "<pandas.io.formats.style.Styler at 0x1ba0e4a8828>"
      ]
     },
     "execution_count": 30,
     "metadata": {},
     "output_type": "execute_result"
    }
   ],
   "source": [
    "df.corr().style.background_gradient().set_precision(2)"
   ]
  },
  {
   "cell_type": "markdown",
   "metadata": {},
   "source": [
    "- Saya hanya melihat korelasi antara features target dengan features yang lainya.\n",
    "- Ternyata hampir semua features tidak berkorelasi dengan target."
   ]
  },
  {
   "cell_type": "markdown",
   "metadata": {},
   "source": [
    "### 6.2 Univariate Analysis\n",
    "- Analisis per features"
   ]
  },
  {
   "cell_type": "code",
   "execution_count": 31,
   "metadata": {},
   "outputs": [
    {
     "data": {
      "text/plain": [
       "<matplotlib.axes._subplots.AxesSubplot at 0x1ba49b5e780>"
      ]
     },
     "execution_count": 31,
     "metadata": {},
     "output_type": "execute_result"
    },
    {
     "data": {
      "image/png": "[encoded data removed]",
      "text/plain": [
       "<Figure size 432x288 with 1 Axes>"
      ]
     },
     "metadata": {
      "needs_background": "light"
     },
     "output_type": "display_data"
    }
   ],
   "source": [
    "#Univariate Analysis Target\n",
    "sns.countplot(df['target'], color='green')"
   ]
  },
  {
   "cell_type": "markdown",
   "metadata": {},
   "source": [
    "- Jumlah nilai target 0 dan 1 ternyata hampir sama sehingga data sudah balance dan tidak perlu dilakukan treatment lain."
   ]
  },
  {
   "cell_type": "code",
   "execution_count": 32,
   "metadata": {},
   "outputs": [
    {
     "data": {
      "text/plain": [
       "<matplotlib.axes._subplots.AxesSubplot at 0x1ba62175400>"
      ]
     },
     "execution_count": 32,
     "metadata": {},
     "output_type": "execute_result"
    },
    {
     "data": {
      "image/png": "[encoded data removed]",
      "text/plain": [
       "<Figure size 1080x360 with 2 Axes>"
      ]
     },
     "metadata": {
      "needs_background": "light"
     },
     "output_type": "display_data"
    }
   ],
   "source": [
    "#Univariate Analysis Jumlah Kata\n",
    "f = plt.figure(figsize=(15,5))\n",
    "\n",
    "f.add_subplot(1,2,1)\n",
    "sns.distplot(df['jumlah_kata'])\n",
    "\n",
    "f.add_subplot(1,2,2)\n",
    "sns.boxplot(df['jumlah_kata'])"
   ]
  },
  {
   "cell_type": "markdown",
   "metadata": {},
   "source": [
    "- Dari distplot dapat dilihat bahwa jumlah kata tweet seseorang berada pada kisaran 5-10 kata.\n",
    "- Dari boxplot dapat dilihat bahwa ada beberapa outliers yang jumlah katanya diatas 20."
   ]
  },
  {
   "cell_type": "code",
   "execution_count": 33,
   "metadata": {},
   "outputs": [
    {
     "data": {
      "text/plain": [
       "<matplotlib.axes._subplots.AxesSubplot at 0x1ba0e3d4ba8>"
      ]
     },
     "execution_count": 33,
     "metadata": {},
     "output_type": "execute_result"
    },
    {
     "data": {
      "image/png": "[encoded data removed]",
      "text/plain": [
       "<Figure size 1080x360 with 2 Axes>"
      ]
     },
     "metadata": {
      "needs_background": "light"
     },
     "output_type": "display_data"
    }
   ],
   "source": [
    "#Univariate Analysis Jumlah Char\n",
    "f = plt.figure(figsize=(15,5))\n",
    "\n",
    "f.add_subplot(1,2,1)\n",
    "sns.distplot(df['jumlah_char'])\n",
    "\n",
    "f.add_subplot(1,2,2)\n",
    "sns.boxplot(df['jumlah_char'])"
   ]
  },
  {
   "cell_type": "markdown",
   "metadata": {},
   "source": [
    "- Dari distplot, dapat dilihat bahwa sebagian besar jumlah huruf terpusat di angka 20-50 kata per tweet.\n",
    "- Untuk boxplot dapat dilihat bahwa terdapat outliers yang jumlah katanya diatas 110."
   ]
  },
  {
   "cell_type": "code",
   "execution_count": 34,
   "metadata": {},
   "outputs": [
    {
     "data": {
      "text/plain": [
       "<matplotlib.axes._subplots.AxesSubplot at 0x1ba0dde88d0>"
      ]
     },
     "execution_count": 34,
     "metadata": {},
     "output_type": "execute_result"
    },
    {
     "data": {
      "image/png": "[encoded data removed]",
      "text/plain": [
       "<Figure size 1080x360 with 2 Axes>"
      ]
     },
     "metadata": {
      "needs_background": "light"
     },
     "output_type": "display_data"
    }
   ],
   "source": [
    "#Univariate Analysis Rata-Rata Kata\n",
    "f = plt.figure(figsize=(15,5))\n",
    "\n",
    "f.add_subplot(1,2,1)\n",
    "sns.distplot(df['rata_rata_kata'])\n",
    "\n",
    "f.add_subplot(1,2,2)\n",
    "sns.boxplot(df['rata_rata_kata'])"
   ]
  },
  {
   "cell_type": "markdown",
   "metadata": {},
   "source": [
    "- Rata-Rata kata terpusat di angka kurang dari 10.\n",
    "- Terdapat banyak sekali outliers."
   ]
  },
  {
   "cell_type": "markdown",
   "metadata": {},
   "source": [
    "### 6.3 Perbandingan Antara Sentiment Negatif dan Positif"
   ]
  },
  {
   "cell_type": "code",
   "execution_count": 35,
   "metadata": {},
   "outputs": [],
   "source": [
    "#Kategorikan text ke dalam positif dan negatif\n",
    "positif = df.loc[df['sentiment'] == \"Positif\"]\n",
    "negatif = df.loc[df['sentiment'] == \"Negatif\"]"
   ]
  },
  {
   "cell_type": "code",
   "execution_count": 36,
   "metadata": {},
   "outputs": [
    {
     "data": {
      "image/png": "[encoded data removed]",
      "text/plain": [
       "<Figure size 1080x360 with 2 Axes>"
      ]
     },
     "metadata": {
      "needs_background": "light"
     },
     "output_type": "display_data"
    }
   ],
   "source": [
    "#Analysis Jumlah Kata\n",
    "f = plt.figure(figsize=(15,5))\n",
    "\n",
    "f.add_subplot(1,2,1)\n",
    "sns.distplot(positif['jumlah_kata'], color='green')\n",
    "\n",
    "f.add_subplot(1,2,2)\n",
    "sns.distplot(negatif['jumlah_kata'], color='red')\n",
    "\n",
    "plt.show()"
   ]
  },
  {
   "cell_type": "markdown",
   "metadata": {},
   "source": [
    "- Warna hijau menandakan sentiment positif dan merah untuk sentiment negatif.\n",
    "- Dapat dilihat ternyata distribusi dari jumlah_kata kedua sentiment hampir sama."
   ]
  },
  {
   "cell_type": "code",
   "execution_count": 37,
   "metadata": {},
   "outputs": [
    {
     "data": {
      "image/png": "[encoded data removed]",
      "text/plain": [
       "<Figure size 1080x360 with 2 Axes>"
      ]
     },
     "metadata": {
      "needs_background": "light"
     },
     "output_type": "display_data"
    }
   ],
   "source": [
    "#Analysis Jumlah Huruf\n",
    "f = plt.figure(figsize=(15,5))\n",
    "\n",
    "f.add_subplot(1,2,1)\n",
    "sns.distplot(positif['jumlah_char'], color='green')\n",
    "\n",
    "f.add_subplot(1,2,2)\n",
    "sns.distplot(negatif['jumlah_char'], color='red')\n",
    "\n",
    "plt.show()"
   ]
  },
  {
   "cell_type": "markdown",
   "metadata": {},
   "source": [
    "- Warna hijau menandakan sentiment positif dan merah untuk sentiment negatif.\n",
    "- Dapat dilihat ternyata distribusi dari jumlah_char kedua sentiment hampir sama."
   ]
  },
  {
   "cell_type": "code",
   "execution_count": 38,
   "metadata": {},
   "outputs": [
    {
     "data": {
      "image/png": "[encoded data removed]",
      "text/plain": [
       "<Figure size 1080x360 with 2 Axes>"
      ]
     },
     "metadata": {
      "needs_background": "light"
     },
     "output_type": "display_data"
    }
   ],
   "source": [
    "#Analysis Jumlah Huruf\n",
    "f = plt.figure(figsize=(15,5))\n",
    "\n",
    "f.add_subplot(1,2,1)\n",
    "sns.distplot(positif['rata_rata_kata'], color='green')\n",
    "\n",
    "f.add_subplot(1,2,2)\n",
    "sns.distplot(negatif['rata_rata_kata'], color='red')\n",
    "\n",
    "plt.show()"
   ]
  },
  {
   "cell_type": "markdown",
   "metadata": {},
   "source": [
    "- Warna hijau menandakan sentiment positif dan merah untuk sentiment negatif.\n",
    "- Dapat dilihat ternyata distribusi dari jumlah_char kedua sentiment hampir sama namun untuk rata_rata_kata dari sentiment positif memiliki outliers yang nilainya sampai 100.\n",
    "- Sedangkan untuk rata_rata_kata untuk sentiment negatif nilai outliersnya hanya sampai 60."
   ]
  },
  {
   "cell_type": "markdown",
   "metadata": {},
   "source": [
    "### 6.3 Wordcloud\n",
    "\n",
    "- Fungsi dari wordcloud adalah untuk menunjukan kata yang sering muncul dalam text."
   ]
  },
  {
   "cell_type": "code",
   "execution_count": 39,
   "metadata": {},
   "outputs": [],
   "source": [
    "#Wordcloud untuk sentiment positif\n",
    "#Kategorikan text ke dalam positif dan negatif\n",
    "positif = df.loc[df['sentiment'] == \"Positif\"]\n",
    "negatif = df.loc[df['sentiment'] == \"Negatif\"]"
   ]
  },
  {
   "cell_type": "code",
   "execution_count": 40,
   "metadata": {},
   "outputs": [],
   "source": [
    "#Gabungkan semua text ke dalam 1 paragraf\n",
    "all_positif = \"\".join(positif['text'].values)\n",
    "all_negatif = \"\".join(negatif['text'].values)"
   ]
  },
  {
   "cell_type": "code",
   "execution_count": 41,
   "metadata": {},
   "outputs": [],
   "source": [
    "#Membuat fungsi wordcloud\n",
    "def word_cloud(string):\n",
    "    cloud = WordCloud(background_color = \"white\", max_words = 200, stopwords = set(STOPWORDS)).generate(string)\n",
    "    plt.imshow(cloud, interpolation='bilinear')\n",
    "    plt.axis('off')\n",
    "    plt.show()"
   ]
  },
  {
   "cell_type": "code",
   "execution_count": 42,
   "metadata": {},
   "outputs": [
    {
     "data": {
      "image/png": "[encoded data removed]",
      "text/plain": [
       "<Figure size 432x288 with 1 Axes>"
      ]
     },
     "metadata": {
      "needs_background": "light"
     },
     "output_type": "display_data"
    }
   ],
   "source": [
    "#Wordcloud untuk sentiment positif\n",
    "word_cloud(all_positif)"
   ]
  },
  {
   "cell_type": "markdown",
   "metadata": {},
   "source": [
    "- Dari wordcloud positif dapat dilihat kata yang sering muncul adalah love, thank, good."
   ]
  },
  {
   "cell_type": "code",
   "execution_count": 43,
   "metadata": {},
   "outputs": [
    {
     "data": {
      "image/png": "[encoded data removed]",
      "text/plain": [
       "<Figure size 432x288 with 1 Axes>"
      ]
     },
     "metadata": {
      "needs_background": "light"
     },
     "output_type": "display_data"
    }
   ],
   "source": [
    "#Wordcloud untuk sentiment negatif\n",
    "word_cloud(all_negatif)"
   ]
  },
  {
   "cell_type": "markdown",
   "metadata": {},
   "source": [
    "- Dari wordcloud negatif beberapa kata yang sering muncul adalah work , still, miss."
   ]
  },
  {
   "cell_type": "markdown",
   "metadata": {},
   "source": [
    "## 7. Modelling"
   ]
  },
  {
   "cell_type": "markdown",
   "metadata": {},
   "source": [
    "### 7.1 Feature Extraction Text\n",
    "- Disini saya menggunakan CountVectorizer dan TF-IDF"
   ]
  },
  {
   "cell_type": "code",
   "execution_count": 44,
   "metadata": {},
   "outputs": [
    {
     "data": {
      "text/html": [
       "<div>\n",
       "<style scoped>\n",
       "    .dataframe tbody tr th:only-of-type {\n",
       "        vertical-align: middle;\n",
       "    }\n",
       "\n",
       "    .dataframe tbody tr th {\n",
       "        vertical-align: top;\n",
       "    }\n",
       "\n",
       "    .dataframe thead th {\n",
       "        text-align: right;\n",
       "    }\n",
       "</style>\n",
       "<table border=\"1\" class=\"dataframe\">\n",
       "  <thead>\n",
       "    <tr style=\"text-align: right;\">\n",
       "      <th></th>\n",
       "      <th>text</th>\n",
       "      <th>jumlah_kata</th>\n",
       "      <th>jumlah_char</th>\n",
       "      <th>rata_rata_kata</th>\n",
       "      <th>numerik</th>\n",
       "      <th>target</th>\n",
       "      <th>sentiment</th>\n",
       "    </tr>\n",
       "  </thead>\n",
       "  <tbody>\n",
       "    <tr>\n",
       "      <th>0</th>\n",
       "      <td>awww bummer shoulda got david carr third day</td>\n",
       "      <td>8</td>\n",
       "      <td>44</td>\n",
       "      <td>5.50</td>\n",
       "      <td>0</td>\n",
       "      <td>0</td>\n",
       "      <td>Negatif</td>\n",
       "    </tr>\n",
       "    <tr>\n",
       "      <th>1</th>\n",
       "      <td>upset update facebook texting might cry result...</td>\n",
       "      <td>11</td>\n",
       "      <td>69</td>\n",
       "      <td>6.27</td>\n",
       "      <td>0</td>\n",
       "      <td>0</td>\n",
       "      <td>Negatif</td>\n",
       "    </tr>\n",
       "    <tr>\n",
       "      <th>2</th>\n",
       "      <td>dived many time ball managed save rest go bound</td>\n",
       "      <td>9</td>\n",
       "      <td>47</td>\n",
       "      <td>5.22</td>\n",
       "      <td>0</td>\n",
       "      <td>0</td>\n",
       "      <td>Negatif</td>\n",
       "    </tr>\n",
       "    <tr>\n",
       "      <th>3</th>\n",
       "      <td>whole body feel itchy like fire</td>\n",
       "      <td>6</td>\n",
       "      <td>31</td>\n",
       "      <td>5.17</td>\n",
       "      <td>0</td>\n",
       "      <td>0</td>\n",
       "      <td>Negatif</td>\n",
       "    </tr>\n",
       "    <tr>\n",
       "      <th>4</th>\n",
       "      <td>behaving mad see</td>\n",
       "      <td>3</td>\n",
       "      <td>16</td>\n",
       "      <td>5.33</td>\n",
       "      <td>0</td>\n",
       "      <td>0</td>\n",
       "      <td>Negatif</td>\n",
       "    </tr>\n",
       "  </tbody>\n",
       "</table>\n",
       "</div>"
      ],
      "text/plain": [
       "                                                text  jumlah_kata  \\\n",
       "0       awww bummer shoulda got david carr third day            8   \n",
       "1  upset update facebook texting might cry result...           11   \n",
       "2    dived many time ball managed save rest go bound            9   \n",
       "3                    whole body feel itchy like fire            6   \n",
       "4                                   behaving mad see            3   \n",
       "\n",
       "   jumlah_char  rata_rata_kata  numerik  target sentiment  \n",
       "0           44            5.50        0       0   Negatif  \n",
       "1           69            6.27        0       0   Negatif  \n",
       "2           47            5.22        0       0   Negatif  \n",
       "3           31            5.17        0       0   Negatif  \n",
       "4           16            5.33        0       0   Negatif  "
      ]
     },
     "execution_count": 44,
     "metadata": {},
     "output_type": "execute_result"
    }
   ],
   "source": [
    "df.head()"
   ]
  },
  {
   "cell_type": "code",
   "execution_count": 45,
   "metadata": {},
   "outputs": [],
   "source": [
    "#Membuat object CountVec\n",
    "count_vectorizer = CountVectorizer(stop_words='english')\n",
    "\n",
    "#Membuat object TF-IDF\n",
    "tfidf = TfidfVectorizer(stop_words='english' )"
   ]
  },
  {
   "cell_type": "markdown",
   "metadata": {},
   "source": [
    "### 7.2 Split Data Menjadi Training dan Testing"
   ]
  },
  {
   "cell_type": "code",
   "execution_count": 46,
   "metadata": {},
   "outputs": [],
   "source": [
    "#Membuat variabel x dan y\n",
    "x = df['text']\n",
    "y = df['target']"
   ]
  },
  {
   "cell_type": "code",
   "execution_count": 47,
   "metadata": {},
   "outputs": [],
   "source": [
    "#countvectorizer\n",
    "x_vectorizer = count_vectorizer.fit_transform(x)\n",
    "\n",
    "#tfidf vectorizer\n",
    "x_tfidf = tfidf.fit_transform(x)"
   ]
  },
  {
   "cell_type": "code",
   "execution_count": 48,
   "metadata": {},
   "outputs": [],
   "source": [
    "#train test split using countvectorizer \n",
    "train_x_vectorizer, test_x_vectorizer, train_y, test_y = train_test_split(x_vectorizer, y, test_size=0.2, random_state=4)\n",
    "\n",
    "#train test split using tfidfvectorizer \n",
    "train_x_tfidf, test_x_tfidf, train_y, test_y = train_test_split(x_tfidf, y, test_size=0.2, random_state=4)"
   ]
  },
  {
   "cell_type": "markdown",
   "metadata": {},
   "source": [
    "### 7.3 Machine Learning Menggunakan Logistic Regression\n",
    "- Mengkombinasikan CountVectorizer dan LogReg\n",
    "- Mengkombinasikan TF-IDF dan LogReg"
   ]
  },
  {
   "cell_type": "code",
   "execution_count": 49,
   "metadata": {},
   "outputs": [],
   "source": [
    "#Countvectorizer \n",
    "\n",
    "#Membuat Object Logistic Regression\n",
    "Logreg_vect = LogisticRegression()\n",
    "\n",
    "#Training Model\n",
    "Logreg_vect.fit(train_x_vectorizer,train_y)\n",
    "\n",
    "#Prediksi model\n",
    "y_pred_vect = Logreg_vect.predict(test_x_vectorizer)"
   ]
  },
  {
   "cell_type": "code",
   "execution_count": 50,
   "metadata": {},
   "outputs": [
    {
     "name": "stdout",
     "output_type": "stream",
     "text": [
      "--------------Count Vectorizer--------------\n",
      "AUC Score Logistic Regression = 77.0%\n",
      "Accuracy Score Logistic Regression = 77.0%\n",
      "Precision Score Logistic Regression = 76.0%\n",
      "Recall Score Logistic Regression = 80.0%\n",
      "F1 Score Logistic Regression = 78.0%\n"
     ]
    }
   ],
   "source": [
    "#Evaluasi model\n",
    "print('--------------Count Vectorizer--------------')\n",
    "auc_log_reg_countvec = round(roc_auc_score(test_y, y_pred_vect),2)\n",
    "accuracy_log_reg_countvec = round(accuracy_score(test_y, y_pred_vect),2)\n",
    "precision_log_reg_countvec = round(precision_score(test_y, y_pred_vect), 2)\n",
    "recall_log_reg_countvec = round(recall_score(test_y, y_pred_vect), 2)\n",
    "f1_log_reg_countvec = round(f1_score(test_y, y_pred_vect),2)\n",
    "print(f'AUC Score Logistic Regression = {auc_log_reg_countvec*100}%')\n",
    "print(f'Accuracy Score Logistic Regression = {accuracy_log_reg_countvec*100}%')\n",
    "print(f'Precision Score Logistic Regression = {precision_log_reg_countvec*100}%')\n",
    "print(f'Recall Score Logistic Regression = {recall_log_reg_countvec*100}%')\n",
    "print(f'F1 Score Logistic Regression = {f1_log_reg_countvec*100}%')"
   ]
  },
  {
   "cell_type": "code",
   "execution_count": 51,
   "metadata": {},
   "outputs": [],
   "source": [
    "# TFIDFVectorizer\n",
    "\n",
    "#Membuat Object Logisti Regression\n",
    "Logreg_tfidf = LogisticRegression()\n",
    "\n",
    "#Training Model\n",
    "Logreg_tfidf.fit(train_x_tfidf, train_y)\n",
    "\n",
    "#Prediksi model\n",
    "y_pred_tfidf = Logreg_tfidf.predict(test_x_tfidf)"
   ]
  },
  {
   "cell_type": "code",
   "execution_count": 52,
   "metadata": {},
   "outputs": [
    {
     "name": "stdout",
     "output_type": "stream",
     "text": [
      "--------------TF IDF--------------\n",
      "AUC Score Logistic Regression = 77.0%\n",
      "Accuracy Score Logistic Regression = 77.0%\n",
      "Precision Score Logistic Regression = 76.0%\n",
      "Recall Score Logistic Regression = 80.0%\n",
      "F1 Score Logistic Regression = 78.0%\n"
     ]
    }
   ],
   "source": [
    "#Evaluasi model\n",
    "print('--------------TF IDF--------------')\n",
    "auc_log_reg_tfidf = round(roc_auc_score(test_y, y_pred_tfidf),2)\n",
    "accuracy_log_reg_tfidf = round(accuracy_score(test_y, y_pred_tfidf),2)\n",
    "precision_log_reg_tfidf = round(precision_score(test_y, y_pred_tfidf), 2)\n",
    "recall_log_reg_tfidf = round(recall_score(test_y, y_pred_tfidf), 2)\n",
    "f1_log_reg_tfidf = round(f1_score(test_y, y_pred_tfidf),2)\n",
    "print(f'AUC Score Logistic Regression = {auc_log_reg_tfidf*100}%')\n",
    "print(f'Accuracy Score Logistic Regression = {accuracy_log_reg_tfidf*100}%')\n",
    "print(f'Precision Score Logistic Regression = {precision_log_reg_tfidf*100}%')\n",
    "print(f'Recall Score Logistic Regression = {recall_log_reg_tfidf*100}%')\n",
    "print(f'F1 Score Logistic Regression = {f1_log_reg_tfidf*100}%')"
   ]
  },
  {
   "cell_type": "markdown",
   "metadata": {},
   "source": [
    "- Dapat disimpulkan kedua model Logistic Regression dengan CountVectorizer dan TF-IDF memiliki evaluasi score yang sama."
   ]
  },
  {
   "cell_type": "markdown",
   "metadata": {},
   "source": [
    "### 7.4 Machine Learning Menggunakan Naive Bayes\n",
    "- Mengkombinasikan CountVectorizer dan NaiveB\n",
    "- Mengkombinasikan TF-IDF dan NaiveB"
   ]
  },
  {
   "cell_type": "code",
   "execution_count": 53,
   "metadata": {},
   "outputs": [],
   "source": [
    "#Countvectorizer \n",
    "\n",
    "#Membuat Object Naive Bayes\n",
    "naive_vect = MultinomialNB()\n",
    "\n",
    "#Training Model\n",
    "naive_vect.fit(train_x_vectorizer,train_y)\n",
    "\n",
    "#Prediksi model\n",
    "y_pred_vect_2 = naive_vect.predict(test_x_vectorizer)"
   ]
  },
  {
   "cell_type": "code",
   "execution_count": 54,
   "metadata": {},
   "outputs": [
    {
     "name": "stdout",
     "output_type": "stream",
     "text": [
      "--------------Count Vectorizer--------------\n",
      "AUC Score Naive Bayes = 76.0%\n",
      "Accuracy Score Naive Bayes = 76.0%\n",
      "Precision Score Naive Bayes = 77.0%\n",
      "Recall Score Naive Bayes = 75.0%\n",
      "F1 Score Naive Bayes = 76.0%\n"
     ]
    }
   ],
   "source": [
    "#Evaluasi model\n",
    "print('--------------Count Vectorizer--------------')\n",
    "auc_nb_countvec = round(roc_auc_score(test_y, y_pred_vect_2),2)\n",
    "accuracy_nb_countvec = round(accuracy_score(test_y, y_pred_vect_2),2)\n",
    "precision_nb_countvec = round(precision_score(test_y, y_pred_vect_2), 2)\n",
    "recall_nb_countvec = round(recall_score(test_y, y_pred_vect_2), 2)\n",
    "f1_nb_countvec = round(f1_score(test_y, y_pred_vect_2),2)\n",
    "print(f'AUC Score Naive Bayes = {auc_nb_countvec*100}%')\n",
    "print(f'Accuracy Score Naive Bayes = {accuracy_nb_countvec*100}%')\n",
    "print(f'Precision Score Naive Bayes = {precision_nb_countvec*100}%')\n",
    "print(f'Recall Score Naive Bayes = {recall_nb_countvec*100}%')\n",
    "print(f'F1 Score Naive Bayes = {f1_nb_countvec*100}%')"
   ]
  },
  {
   "cell_type": "code",
   "execution_count": 55,
   "metadata": {},
   "outputs": [],
   "source": [
    "#TF-IDF \n",
    "\n",
    "#Membuat Object Naive Bayes\n",
    "naive_tfidf = MultinomialNB()\n",
    "\n",
    "#Training Model\n",
    "naive_tfidf.fit(train_x_tfidf,train_y)\n",
    "\n",
    "#Prediksi model\n",
    "y_pred_tfidf_2 = naive_tfidf.predict(test_x_tfidf)"
   ]
  },
  {
   "cell_type": "code",
   "execution_count": 56,
   "metadata": {
    "scrolled": false
   },
   "outputs": [
    {
     "name": "stdout",
     "output_type": "stream",
     "text": [
      "--------------TF IDF--------------\n",
      "AUC Score Naive Bayes = 76.0%\n",
      "Accuracy Score Naive Bayes = 76.0%\n",
      "Precision Score Naive Bayes = 76.0%\n",
      "Recall Score Naive Bayes = 75.0%\n",
      "F1 Score Naive Bayes = 76.0%\n"
     ]
    }
   ],
   "source": [
    "#Evaluasi model\n",
    "print('--------------TF IDF--------------')\n",
    "auc_nb_tfidf = round(roc_auc_score(test_y, y_pred_tfidf_2),2)\n",
    "accuracy_nb_tfidf = round(accuracy_score(test_y, y_pred_tfidf_2),2)\n",
    "precision_nb_tfidf = round(precision_score(test_y, y_pred_tfidf_2), 2)\n",
    "recall_nb_tfidf = round(recall_score(test_y, y_pred_tfidf_2), 2)\n",
    "f1_nb_tfidf = round(f1_score(test_y, y_pred_tfidf_2),2)\n",
    "print(f'AUC Score Naive Bayes = {auc_nb_tfidf*100}%')\n",
    "print(f'Accuracy Score Naive Bayes = {accuracy_nb_tfidf*100}%')\n",
    "print(f'Precision Score Naive Bayes = {precision_nb_tfidf*100}%')\n",
    "print(f'Recall Score Naive Bayes = {recall_nb_tfidf*100}%')\n",
    "print(f'F1 Score Naive Bayes = {f1_nb_tfidf*100}%')"
   ]
  },
  {
   "cell_type": "markdown",
   "metadata": {},
   "source": [
    "- Dapat disimpulkan jika menggunakan Naive Bayes didapatkan bahwa yang menggunakan CountVectorizer memiliki score evaluasi yang lebih tinggi dari yang TF-IDF."
   ]
  },
  {
   "cell_type": "markdown",
   "metadata": {},
   "source": [
    "### 7.5 Machine Learning Menggunakan Linear SVC"
   ]
  },
  {
   "cell_type": "code",
   "execution_count": 57,
   "metadata": {},
   "outputs": [],
   "source": [
    "#Countvectorizer \n",
    "\n",
    "#Membuat Object Naive Bayes\n",
    "svc_cv = LinearSVC()\n",
    "\n",
    "#Training Model\n",
    "svc_cv.fit(train_x_vectorizer,train_y)\n",
    "\n",
    "#Prediksi model\n",
    "y_pred_vect_3 = svc_cv.predict(test_x_vectorizer)"
   ]
  },
  {
   "cell_type": "code",
   "execution_count": 58,
   "metadata": {},
   "outputs": [
    {
     "name": "stdout",
     "output_type": "stream",
     "text": [
      "--------------Count Vectorizer--------------\n",
      "AUC Score Linear SVC = 76.0%\n",
      "Accuracy Score Linear SVC = 76.0%\n",
      "Precision Score Linear SVC = 75.0%\n",
      "Recall Score Linear SVC = 80.0%\n",
      "F1 Score Linear SVC = 77.0%\n"
     ]
    }
   ],
   "source": [
    "#Evaluasi model\n",
    "print('--------------Count Vectorizer--------------')\n",
    "auc_svc_countvec = round(roc_auc_score(test_y, y_pred_vect_3),2)\n",
    "accuracy_svc_countvec = round(accuracy_score(test_y, y_pred_vect_3),2)\n",
    "precision_svc_countvec = round(precision_score(test_y, y_pred_vect_3), 2)\n",
    "recall_svc_countvec = round(recall_score(test_y, y_pred_vect_3), 2)\n",
    "f1_svc_countvec = round(f1_score(test_y, y_pred_vect_3),2)\n",
    "print(f'AUC Score Linear SVC = {auc_svc_countvec*100}%')\n",
    "print(f'Accuracy Score Linear SVC = {accuracy_svc_countvec*100}%')\n",
    "print(f'Precision Score Linear SVC = {precision_svc_countvec*100}%')\n",
    "print(f'Recall Score Linear SVC = {recall_svc_countvec*100}%')\n",
    "print(f'F1 Score Linear SVC = {f1_svc_countvec*100}%')"
   ]
  },
  {
   "cell_type": "code",
   "execution_count": 64,
   "metadata": {},
   "outputs": [],
   "source": [
    "#TFIDF\n",
    "\n",
    "#Membuat Object Naive Bayes\n",
    "svc_tfidf = LinearSVC()\n",
    "\n",
    "#Training Model\n",
    "svc_tfidf.fit(train_x_tfidf,train_y)\n",
    "\n",
    "#Prediksi model\n",
    "y_pred_tfidf_3 = svc_cv.predict(test_x_tfidf)"
   ]
  },
  {
   "cell_type": "code",
   "execution_count": 66,
   "metadata": {
    "scrolled": false
   },
   "outputs": [
    {
     "name": "stdout",
     "output_type": "stream",
     "text": [
      "--------------TF IDF--------------\n",
      "AUC Score Linear SVC = 74.0%\n",
      "Accuracy Score Linear SVC = 74.0%\n",
      "Precision Score Linear SVC = 70.0%\n",
      "Recall Score Linear SVC = 84.0%\n",
      "F1 Score Linear SVC = 76.0%\n"
     ]
    }
   ],
   "source": [
    "#Evaluasi model\n",
    "print('--------------TF IDF--------------')\n",
    "auc_svc_tfidf = round(roc_auc_score(test_y, y_pred_tfidf_3),2)\n",
    "accuracy_svc_tfidf = round(accuracy_score(test_y, y_pred_tfidf_3),2)\n",
    "precision_svc_tfidf = round(precision_score(test_y, y_pred_tfidf_3), 2)\n",
    "recall_svc_tfidf = round(recall_score(test_y, y_pred_tfidf_3), 2)\n",
    "f1_svc_tfidf = round(f1_score(test_y, y_pred_tfidf_3),2)\n",
    "print(f'AUC Score Linear SVC = {auc_svc_tfidf*100}%')\n",
    "print(f'Accuracy Score Linear SVC = {accuracy_svc_tfidf*100}%')\n",
    "print(f'Precision Score Linear SVC = {precision_svc_tfidf*100}%')\n",
    "print(f'Recall Score Linear SVC = {recall_svc_tfidf*100}%')\n",
    "print(f'F1 Score Linear SVC = {f1_svc_tfidf*100}%')"
   ]
  },
  {
   "cell_type": "markdown",
   "metadata": {},
   "source": [
    "## 7.6 Score Summary"
   ]
  },
  {
   "cell_type": "code",
   "execution_count": 68,
   "metadata": {},
   "outputs": [
    {
     "data": {
      "text/html": [
       "<div>\n",
       "<style scoped>\n",
       "    .dataframe tbody tr th:only-of-type {\n",
       "        vertical-align: middle;\n",
       "    }\n",
       "\n",
       "    .dataframe tbody tr th {\n",
       "        vertical-align: top;\n",
       "    }\n",
       "\n",
       "    .dataframe thead th {\n",
       "        text-align: right;\n",
       "    }\n",
       "</style>\n",
       "<table border=\"1\" class=\"dataframe\">\n",
       "  <thead>\n",
       "    <tr style=\"text-align: right;\">\n",
       "      <th></th>\n",
       "      <th>Model</th>\n",
       "      <th>Accuracy Score</th>\n",
       "      <th>Recall Score</th>\n",
       "      <th>F1 Score</th>\n",
       "      <th>Precision Score</th>\n",
       "      <th>AUC Score</th>\n",
       "    </tr>\n",
       "  </thead>\n",
       "  <tbody>\n",
       "    <tr>\n",
       "      <th>0</th>\n",
       "      <td>Logistic RegressionCV</td>\n",
       "      <td>0.77</td>\n",
       "      <td>0.80</td>\n",
       "      <td>0.78</td>\n",
       "      <td>0.76</td>\n",
       "      <td>0.77</td>\n",
       "    </tr>\n",
       "    <tr>\n",
       "      <th>1</th>\n",
       "      <td>Logistic RegressionTFIDF</td>\n",
       "      <td>0.77</td>\n",
       "      <td>0.80</td>\n",
       "      <td>0.78</td>\n",
       "      <td>0.76</td>\n",
       "      <td>0.77</td>\n",
       "    </tr>\n",
       "    <tr>\n",
       "      <th>2</th>\n",
       "      <td>Naive Bayes CV</td>\n",
       "      <td>0.76</td>\n",
       "      <td>0.75</td>\n",
       "      <td>0.76</td>\n",
       "      <td>0.77</td>\n",
       "      <td>0.76</td>\n",
       "    </tr>\n",
       "    <tr>\n",
       "      <th>3</th>\n",
       "      <td>Naive BayesTFIDF</td>\n",
       "      <td>0.76</td>\n",
       "      <td>0.75</td>\n",
       "      <td>0.76</td>\n",
       "      <td>0.76</td>\n",
       "      <td>0.76</td>\n",
       "    </tr>\n",
       "    <tr>\n",
       "      <th>4</th>\n",
       "      <td>LinearSVC-CV</td>\n",
       "      <td>0.76</td>\n",
       "      <td>0.80</td>\n",
       "      <td>0.77</td>\n",
       "      <td>0.75</td>\n",
       "      <td>0.76</td>\n",
       "    </tr>\n",
       "    <tr>\n",
       "      <th>5</th>\n",
       "      <td>LinearSVC-TFIDF</td>\n",
       "      <td>0.74</td>\n",
       "      <td>0.84</td>\n",
       "      <td>0.76</td>\n",
       "      <td>0.70</td>\n",
       "      <td>0.74</td>\n",
       "    </tr>\n",
       "  </tbody>\n",
       "</table>\n",
       "</div>"
      ],
      "text/plain": [
       "                      Model  Accuracy Score  Recall Score  F1 Score  \\\n",
       "0     Logistic RegressionCV            0.77          0.80      0.78   \n",
       "1  Logistic RegressionTFIDF            0.77          0.80      0.78   \n",
       "2            Naive Bayes CV            0.76          0.75      0.76   \n",
       "3          Naive BayesTFIDF            0.76          0.75      0.76   \n",
       "4              LinearSVC-CV            0.76          0.80      0.77   \n",
       "5           LinearSVC-TFIDF            0.74          0.84      0.76   \n",
       "\n",
       "   Precision Score  AUC Score  \n",
       "0             0.76       0.77  \n",
       "1             0.76       0.77  \n",
       "2             0.77       0.76  \n",
       "3             0.76       0.76  \n",
       "4             0.75       0.76  \n",
       "5             0.70       0.74  "
      ]
     },
     "execution_count": 68,
     "metadata": {},
     "output_type": "execute_result"
    }
   ],
   "source": [
    "score_summary = pd.DataFrame({\n",
    "    'Model': ['Logistic RegressionCV', 'Logistic RegressionTFIDF', 'Naive Bayes CV', 'Naive BayesTFIDF', 'LinearSVC-CV', 'LinearSVC-TFIDF'],\n",
    "    'Accuracy Score': [accuracy_log_reg_countvec,accuracy_log_reg_tfidf,accuracy_nb_countvec,accuracy_nb_tfidf, accuracy_svc_countvec, accuracy_svc_tfidf],\n",
    "    'Recall Score' : [recall_log_reg_countvec,recall_log_reg_tfidf,recall_nb_countvec,recall_nb_tfidf, recall_svc_countvec, recall_svc_tfidf],\n",
    "    'F1 Score' : [f1_log_reg_countvec,f1_log_reg_tfidf,f1_nb_countvec,f1_nb_tfidf, f1_svc_countvec, f1_svc_tfidf],\n",
    "    'Precision Score' : [precision_log_reg_countvec,precision_log_reg_tfidf,precision_nb_countvec,precision_nb_tfidf, precision_svc_countvec, precision_svc_tfidf],\n",
    "    'AUC Score' : [auc_log_reg_countvec,auc_log_reg_tfidf,auc_nb_countvec,auc_nb_tfidf, auc_svc_countvec, auc_svc_tfidf]\n",
    "})\n",
    "score_summary"
   ]
  },
  {
   "cell_type": "markdown",
   "metadata": {},
   "source": [
    "## 8. Kesimpulan"
   ]
  },
  {
   "cell_type": "markdown",
   "metadata": {},
   "source": [
    "- Dari hasil sentiment analisis dapat ditarik beberapa kesimpulan yaitu:\n",
    "    1. Data sudah **balance** karena nilai target 0 dan 1 nilainya sudah hampir sama.\n",
    "    2. Untuk distribusi dari **jumlah kata** dalam setiap tweet untuk setiap sentiment memiliki kesamaan yaitu terpusat di kisaran angka **5-10** kata per tweet.\n",
    "    3. Sedangkan untuk distribusi **jumlah huruf** juga memiliki kesamaan yaitu terpusat di angka **20-40** kata per tweet.\n",
    "    4. Dengan melihat kesimpulan nomer 2 dan 3 berarti feature jumlah kata dan jumlah hurus **tidak mempengaruhi** target.\n",
    "    5. hasil wordcloud untuk sentiment positif didapatkan bahwa kata yang sering muncul adalah : **Love, Thank, Good**.\n",
    "    6. Sedangkan untuk wordcloud sentiment negatif didapatkan bahwa kata yang sering muncul adalah : **Work, Still, Miss**.\n",
    "    7. Dari hasi **Modelling Machine Learning** didapatkan bahwa **Logistic Regression** memberikan score evalusi yang paling tinggi jika dibandingkan dengan Naive Bayes. Uniknya adalah ketika menggunakan Feature Extraction CountVectorizer ataupun TF-IDF memberikan score yang **sama**."
   ]
  }
 ],
 "metadata": {
  "kernelspec": {
   "display_name": "Python 3",
   "language": "python",
   "name": "python3"
  },
  "language_info": {
   "codemirror_mode": {
    "name": "ipython",
    "version": 3
   },
   "file_extension": ".py",
   "mimetype": "text/x-python",
   "name": "python",
   "nbconvert_exporter": "python",
   "pygments_lexer": "ipython3",
   "version": "3.7.3"
  }
 },
 "nbformat": 4,
 "nbformat_minor": 2
}
